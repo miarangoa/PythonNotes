{
 "metadata": {
  "language_info": {
   "codemirror_mode": {
    "name": "ipython",
    "version": 3
   },
   "file_extension": ".py",
   "mimetype": "text/x-python",
   "name": "python",
   "nbconvert_exporter": "python",
   "pygments_lexer": "ipython3",
   "version": "3.8.5-final"
  },
  "orig_nbformat": 2,
  "kernelspec": {
   "name": "python3",
   "display_name": "Python 3.8.5 64-bit (conda)",
   "metadata": {
    "interpreter": {
     "hash": "4b4ac7cc0f09461b6da8f27c5c095574ae7b0201e83c458e742a190fd09b273d"
    }
   }
  }
 },
 "nbformat": 4,
 "nbformat_minor": 2,
 "cells": [
  {
   "source": [
    "# Python Fundamentals\n",
    "\n",
    "## Introduction to Python\n",
    "\n",
    "### Data types\n",
    "- `int`, or integer: a number without a fractional part.\n",
    "- `float`, or floating point: a number that has both an integer and fractional part, separated by a point.\n",
    "- `str`, or string: a type to represent text. You can use single or double quotes to build a string.\n",
    "- `bool`, or boolean: a type to represent logical values. Can only be True or False (the capitalization is important!).\n",
    "\n",
    "### type()\n",
    "To find out the type of a value or a variable that refers to that value, you can use the `type()` function. \n",
    "\n",
    "### Type conversion\n",
    "Functions such as `str()`, `int()`, `float()` and `bool()` will help you convert Python values into any type.\n"
   ],
   "cell_type": "markdown",
   "metadata": {}
  },
  {
   "cell_type": "code",
   "execution_count": 1,
   "metadata": {},
   "outputs": [
    {
     "output_type": "stream",
     "name": "stdout",
     "text": [
      "2.2\n<class 'float'>\nhihi\n<class 'str'>\n"
     ]
    }
   ],
   "source": [
    "# Operations\n",
    "\n",
    "a = 1\n",
    "b = 1.2\n",
    "c = 'hi'\n",
    "\n",
    "print(a+b)\n",
    "print(type(a+b))\n",
    "print(c+c)\n",
    "print(type(c+c))"
   ]
  },
  {
   "cell_type": "code",
   "execution_count": 2,
   "metadata": {},
   "outputs": [
    {
     "output_type": "stream",
     "name": "stdout",
     "text": [
      "Today is 21\n1\n<class 'int'>\n"
     ]
    }
   ],
   "source": [
    "# Type conversion\n",
    "\n",
    "day = 21\n",
    "height = 1.64\n",
    "\n",
    "height_int = int(height)\n",
    "\n",
    "print('Today is ' + str(day))\n",
    "print(height_int)\n",
    "print(type(height_int))"
   ]
  },
  {
   "source": [
    "### List type\n",
    "As opposed to `int`, `bool` etc., a `list` is a compound data type; you can group values together.\n",
    "\n",
    "A `list` can contain any Python type. Although it's not really common, a list can also contain a mix of Python types including strings, floats, booleans, etc.\n",
    "\n",
    "But a list itself is also a Python type. That means that a `list` can also contain a `list`!.\n",
    "\n",
    "#### Subsetting list\n",
    "The second element has index 1. You can also use negative indexing.\n",
    "\n",
    "#### Slicing and dicing\n",
    "Selecting single values from a `list` is just one part of the story. It's also possible to slice your `list`, which means selecting multiple elements from your `list`. \n",
    "\n",
    "`[start :   end]`\n",
    "\n",
    "_inclusive   exclusive_\n",
    "\n",
    "If you don't specify the begin index, Python figures out that you want to start your slice at the beginning of your `list`. If you don't specify the end index, the slice will go all the way to the last element of your `list`. \n",
    "\n",
    "#### Subsetting lists of lists\n",
    "To subset lists of lists, you can use the same technique as before: square brackets. \n",
    "\n",
    "#### Manipulating lists\n",
    "Change, add and remove `list` elements:\n",
    "- Replacing `list` elements is pretty easy. Simply subset the `list` and assign new values to the subset. You can select single elements or you can change entire `list` slices at once.\n",
    "- If you can change elements in a `list`, you sure want to be able to add elements to it, right? You can use the + operator.\n",
    "- You can also remove elements from your `list`. You can do this with the `del` statement. As soon as you remove an element from a `list`, the indexes of the elements that come after the deleted element all change!. The `;` sign is used to place commands on the same line.\n",
    "\n",
    "Inner workings of lists: if you want to prevent changes in a copy `list` from also taking effect in a `list`, you'll have to do a more explicit copy of the `list`. You can do this with `list()` or by using `[:]`."
   ],
   "cell_type": "markdown",
   "metadata": {}
  },
  {
   "cell_type": "code",
   "execution_count": 3,
   "metadata": {},
   "outputs": [
    {
     "output_type": "stream",
     "name": "stdout",
     "text": [
      "[1, 2, 'hi']\n<class 'list'>\n"
     ]
    }
   ],
   "source": [
    "# Create list\n",
    "\n",
    "one = 1\n",
    "two = 2\n",
    "hello = 'hi'\n",
    "\n",
    "my_list = [one, two, hello]\n",
    "\n",
    "print(my_list)\n",
    "print(type(my_list))"
   ]
  },
  {
   "cell_type": "code",
   "execution_count": 4,
   "metadata": {},
   "outputs": [
    {
     "output_type": "stream",
     "name": "stdout",
     "text": [
      "<class 'list'>\n"
     ]
    }
   ],
   "source": [
    "# List of lists\n",
    "\n",
    "lol = [1, [1, 2], 3, 4, [3,4]]\n",
    "\n",
    "print(type(lol))"
   ]
  },
  {
   "cell_type": "code",
   "execution_count": 5,
   "metadata": {},
   "outputs": [
    {
     "output_type": "stream",
     "name": "stdout",
     "text": [
      "1\n[3, 4]\n[3, 4]\n"
     ]
    }
   ],
   "source": [
    "# Subsetting lists\n",
    "\n",
    "print(lol[0])\n",
    "print(lol[4])\n",
    "print(lol[-1])"
   ]
  },
  {
   "cell_type": "code",
   "execution_count": 6,
   "metadata": {},
   "outputs": [
    {
     "output_type": "execute_result",
     "data": {
      "text/plain": [
       "5"
      ]
     },
     "metadata": {},
     "execution_count": 6
    }
   ],
   "source": [
    "# Subset and calculate\n",
    "\n",
    "lol[0] + lol[3]"
   ]
  },
  {
   "cell_type": "code",
   "execution_count": 7,
   "metadata": {},
   "outputs": [
    {
     "output_type": "stream",
     "name": "stdout",
     "text": [
      "[[1, 2]]\n[1, [1, 2]]\n[[1, 2], 3, 4, [3, 4]]\n"
     ]
    }
   ],
   "source": [
    "# Slicing and dicing\n",
    "\n",
    "print(lol[1:2])\n",
    "print(lol[:2])\n",
    "print(lol[1:])"
   ]
  },
  {
   "cell_type": "code",
   "execution_count": 8,
   "metadata": {},
   "outputs": [
    {
     "output_type": "stream",
     "name": "stdout",
     "text": [
      "1\n[1, 2]\n"
     ]
    }
   ],
   "source": [
    "# Subsetting lists of lists\n",
    "\n",
    "print(lol[1][0])\n",
    "print(lol[1][:])"
   ]
  },
  {
   "cell_type": "code",
   "execution_count": 9,
   "metadata": {},
   "outputs": [
    {
     "output_type": "stream",
     "name": "stdout",
     "text": [
      "[1, [1, 2], 3, 4, [3, 4]]\n[0, [1, 2], 3, 4, [3, 4]]\n[0, [1, 2], 4, 5, [3, 4]]\n"
     ]
    }
   ],
   "source": [
    "# Replacing list elements\n",
    "\n",
    "print(lol)\n",
    "\n",
    "lol[0] = 0\n",
    "print(lol)\n",
    "\n",
    "lol[2:4] = [4, 5]\n",
    "print(lol)"
   ]
  },
  {
   "cell_type": "code",
   "execution_count": 10,
   "metadata": {},
   "outputs": [
    {
     "output_type": "stream",
     "name": "stdout",
     "text": [
      "['a', 'b', 'c', 'd', 'e']\n['a', 'b', 'c', 'd', 'e', 'f', 'g']\n"
     ]
    }
   ],
   "source": [
    "# Extend a list\n",
    "\n",
    "x = ['a', 'b', 'c']\n",
    "y = x + ['d', 'e']\n",
    "print(y)\n",
    "\n",
    "z = y + ['f', 'g']\n",
    "print(z)"
   ]
  },
  {
   "cell_type": "code",
   "execution_count": 11,
   "metadata": {},
   "outputs": [
    {
     "output_type": "stream",
     "name": "stdout",
     "text": [
      "['a', 'b', 'c']\n['a', 'c']\n"
     ]
    }
   ],
   "source": [
    "# Delete list elements\n",
    "\n",
    "print(x); del(x[1]); print(x)"
   ]
  },
  {
   "cell_type": "code",
   "execution_count": 12,
   "metadata": {},
   "outputs": [
    {
     "output_type": "stream",
     "name": "stdout",
     "text": [
      "['a', 'c']\n[1, 'c']\n['a', 'c']\n"
     ]
    }
   ],
   "source": [
    "# Inner workings of lists\n",
    "\n",
    "print(x)\n",
    "\n",
    "x_copy = list(x)\n",
    "x_copy[0] = 1\n",
    "print(x_copy)\n",
    "\n",
    "print(x)"
   ]
  },
  {
   "source": [
    "### Functions\n",
    "The general recipe for calling functions and saving the result to a variable is thus: `output = function_name(input)`\n",
    "\n",
    "Maybe you already know the name of a Python function, but you still have to figure out how to use it. Ironically, you have to ask for information about a function with another function: `help()`. In IPython specifically, you can also use `?` before the function name, e.g.\n",
    "~~~\n",
    "help(max)\n",
    "?max\n",
    "~~~"
   ],
   "cell_type": "markdown",
   "metadata": {}
  }
 ]
}